{
 "cells": [
  {
   "cell_type": "code",
   "execution_count": 16,
   "metadata": {},
   "outputs": [
    {
     "data": {
      "text/plain": [
       "Index(['Country', 'Year', 'Savanna fires', 'Forest fires', 'Crop Residues',\n",
       "       'Rice Cultivation', 'Drained organic soils (CO2)',\n",
       "       'Pesticides Manufacturing', 'Food Transport', 'Forestland',\n",
       "       'Net Forest conversion', 'Food Household Consumption', 'Food Retail',\n",
       "       'On-farm Electricity Use', 'Food Packaging',\n",
       "       'Agrifood Systems Waste Disposal', 'Food Processing',\n",
       "       'Fertilizers Manufacturing', 'IPPU', 'Manure applied to Soils',\n",
       "       'Manure left on Pasture', 'Manure Management', 'Fires in organic soils',\n",
       "       'Fires in humid tropical forests', 'On-farm energy use',\n",
       "       'Rural population', 'Urban population', 'Total Population - Male',\n",
       "       'Total Population - Female', 'total_emission', 'Average Temperature °C',\n",
       "       'rice_yield'],\n",
       "      dtype='object')"
      ]
     },
     "execution_count": 16,
     "metadata": {},
     "output_type": "execute_result"
    }
   ],
   "source": [
    "#import dependencies\n",
    "import ipynb\n",
    "import matplotlib as plt\n",
    "import pandas as pd\n",
    "\n",
    "# import clean dataframe from main file\n",
    "from ipynb.fs.full.emissions_analysis import main_df\n",
    "main_df\n",
    "main_df.columns"
   ]
  },
  {
   "cell_type": "code",
   "execution_count": 20,
   "metadata": {},
   "outputs": [
    {
     "name": "stderr",
     "output_type": "stream",
     "text": [
      "C:\\Users\\NathanielMizzell\\AppData\\Local\\Temp\\ipykernel_26000\\3433080718.py:10: SettingWithCopyWarning: \n",
      "A value is trying to be set on a copy of a slice from a DataFrame.\n",
      "Try using .loc[row_indexer,col_indexer] = value instead\n",
      "\n",
      "See the caveats in the documentation: https://pandas.pydata.org/pandas-docs/stable/user_guide/indexing.html#returning-a-view-versus-a-copy\n",
      "  df['Total Population'] = (df['Total Population - Male']\n"
     ]
    },
    {
     "data": {
      "text/html": [
       "<div>\n",
       "<style scoped>\n",
       "    .dataframe tbody tr th:only-of-type {\n",
       "        vertical-align: middle;\n",
       "    }\n",
       "\n",
       "    .dataframe tbody tr th {\n",
       "        vertical-align: top;\n",
       "    }\n",
       "\n",
       "    .dataframe thead th {\n",
       "        text-align: right;\n",
       "    }\n",
       "</style>\n",
       "<table border=\"1\" class=\"dataframe\">\n",
       "  <thead>\n",
       "    <tr style=\"text-align: right;\">\n",
       "      <th></th>\n",
       "      <th>Year</th>\n",
       "      <th>Rural population</th>\n",
       "      <th>Urban population</th>\n",
       "      <th>Total Population - Male</th>\n",
       "      <th>Total Population - Female</th>\n",
       "      <th>total_emission</th>\n",
       "      <th>Total Population</th>\n",
       "    </tr>\n",
       "  </thead>\n",
       "  <tbody>\n",
       "    <tr>\n",
       "      <th>count</th>\n",
       "      <td>6965.000000</td>\n",
       "      <td>6.965000e+03</td>\n",
       "      <td>6.965000e+03</td>\n",
       "      <td>6.965000e+03</td>\n",
       "      <td>6.965000e+03</td>\n",
       "      <td>6.965000e+03</td>\n",
       "      <td>6.965000e+03</td>\n",
       "    </tr>\n",
       "    <tr>\n",
       "      <th>mean</th>\n",
       "      <td>2005.124910</td>\n",
       "      <td>1.785774e+07</td>\n",
       "      <td>1.693230e+07</td>\n",
       "      <td>1.761963e+07</td>\n",
       "      <td>1.732447e+07</td>\n",
       "      <td>6.409124e+04</td>\n",
       "      <td>3.494410e+07</td>\n",
       "    </tr>\n",
       "    <tr>\n",
       "      <th>std</th>\n",
       "      <td>8.894665</td>\n",
       "      <td>8.901521e+07</td>\n",
       "      <td>6.574362e+07</td>\n",
       "      <td>7.603993e+07</td>\n",
       "      <td>7.251711e+07</td>\n",
       "      <td>2.283130e+05</td>\n",
       "      <td>1.485462e+08</td>\n",
       "    </tr>\n",
       "    <tr>\n",
       "      <th>min</th>\n",
       "      <td>1990.000000</td>\n",
       "      <td>0.000000e+00</td>\n",
       "      <td>0.000000e+00</td>\n",
       "      <td>2.500000e+02</td>\n",
       "      <td>2.700000e+02</td>\n",
       "      <td>-3.918841e+05</td>\n",
       "      <td>5.200000e+02</td>\n",
       "    </tr>\n",
       "    <tr>\n",
       "      <th>25%</th>\n",
       "      <td>1997.000000</td>\n",
       "      <td>9.731100e+04</td>\n",
       "      <td>2.173860e+05</td>\n",
       "      <td>2.013260e+05</td>\n",
       "      <td>2.078900e+05</td>\n",
       "      <td>5.221244e+03</td>\n",
       "      <td>4.081450e+05</td>\n",
       "    </tr>\n",
       "    <tr>\n",
       "      <th>50%</th>\n",
       "      <td>2005.000000</td>\n",
       "      <td>1.595322e+06</td>\n",
       "      <td>2.357581e+06</td>\n",
       "      <td>2.469660e+06</td>\n",
       "      <td>2.444135e+06</td>\n",
       "      <td>1.214765e+04</td>\n",
       "      <td>4.895243e+06</td>\n",
       "    </tr>\n",
       "    <tr>\n",
       "      <th>75%</th>\n",
       "      <td>2013.000000</td>\n",
       "      <td>8.177340e+06</td>\n",
       "      <td>8.277123e+06</td>\n",
       "      <td>9.075924e+06</td>\n",
       "      <td>9.112588e+06</td>\n",
       "      <td>3.513973e+04</td>\n",
       "      <td>1.817757e+07</td>\n",
       "    </tr>\n",
       "    <tr>\n",
       "      <th>max</th>\n",
       "      <td>2020.000000</td>\n",
       "      <td>9.000991e+08</td>\n",
       "      <td>9.020778e+08</td>\n",
       "      <td>7.435866e+08</td>\n",
       "      <td>7.133419e+08</td>\n",
       "      <td>3.115114e+06</td>\n",
       "      <td>1.456928e+09</td>\n",
       "    </tr>\n",
       "  </tbody>\n",
       "</table>\n",
       "</div>"
      ],
      "text/plain": [
       "              Year  Rural population  Urban population  \\\n",
       "count  6965.000000      6.965000e+03      6.965000e+03   \n",
       "mean   2005.124910      1.785774e+07      1.693230e+07   \n",
       "std       8.894665      8.901521e+07      6.574362e+07   \n",
       "min    1990.000000      0.000000e+00      0.000000e+00   \n",
       "25%    1997.000000      9.731100e+04      2.173860e+05   \n",
       "50%    2005.000000      1.595322e+06      2.357581e+06   \n",
       "75%    2013.000000      8.177340e+06      8.277123e+06   \n",
       "max    2020.000000      9.000991e+08      9.020778e+08   \n",
       "\n",
       "       Total Population - Male  Total Population - Female  total_emission  \\\n",
       "count             6.965000e+03               6.965000e+03    6.965000e+03   \n",
       "mean              1.761963e+07               1.732447e+07    6.409124e+04   \n",
       "std               7.603993e+07               7.251711e+07    2.283130e+05   \n",
       "min               2.500000e+02               2.700000e+02   -3.918841e+05   \n",
       "25%               2.013260e+05               2.078900e+05    5.221244e+03   \n",
       "50%               2.469660e+06               2.444135e+06    1.214765e+04   \n",
       "75%               9.075924e+06               9.112588e+06    3.513973e+04   \n",
       "max               7.435866e+08               7.133419e+08    3.115114e+06   \n",
       "\n",
       "       Total Population  \n",
       "count      6.965000e+03  \n",
       "mean       3.494410e+07  \n",
       "std        1.485462e+08  \n",
       "min        5.200000e+02  \n",
       "25%        4.081450e+05  \n",
       "50%        4.895243e+06  \n",
       "75%        1.817757e+07  \n",
       "max        1.456928e+09  "
      ]
     },
     "execution_count": 20,
     "metadata": {},
     "output_type": "execute_result"
    }
   ],
   "source": [
    "# select only the needed columns\n",
    "df = main_df[['Country'\n",
    "              , 'Year'\n",
    "              , 'Rural population'\n",
    "              , 'Urban population'\n",
    "              , 'Total Population - Male'\n",
    "              , 'Total Population - Female'\n",
    "              , 'total_emission']]\n",
    "\n",
    "df['Total Population'] = (df['Total Population - Male'] \n",
    "                          + df['Total Population - Female'])\n",
    "\n",
    "df = df.dropna()\n",
    "df.describe()"
   ]
  },
  {
   "cell_type": "markdown",
   "metadata": {},
   "source": [
    "# Research Question: How do Co2 Levels and temperatures change as population changes?\n",
    "\n",
    "## Strategy: Create two scatter plots with regression lines. \n",
    "\n",
    "1. X = population, Y = Total emissions\n",
    "2. X = population, Y = Temperature\n",
    "\n",
    "## Population will be the independent variable because we assume that changes in population influence temperature and population"
   ]
  },
  {
   "cell_type": "markdown",
   "metadata": {},
   "source": [
    "# CO2 Levels and Population Change"
   ]
  },
  {
   "cell_type": "code",
   "execution_count": 18,
   "metadata": {},
   "outputs": [
    {
     "ename": "AttributeError",
     "evalue": "module 'matplotlib' has no attribute 'scatter'",
     "output_type": "error",
     "traceback": [
      "\u001b[1;31m---------------------------------------------------------------------------\u001b[0m",
      "\u001b[1;31mAttributeError\u001b[0m                            Traceback (most recent call last)",
      "\u001b[1;32mc:\\Users\\NathanielMizzell\\Desktop\\Emissions_Analysis\\nathaniel.ipynb Cell 5\u001b[0m in \u001b[0;36m1\n\u001b[1;32m----> <a href='vscode-notebook-cell:/c%3A/Users/NathanielMizzell/Desktop/Emissions_Analysis/nathaniel.ipynb#W4sZmlsZQ%3D%3D?line=0'>1</a>\u001b[0m plt\u001b[39m.\u001b[39;49mscatter()\n",
      "File \u001b[1;32mc:\\Users\\NathanielMizzell\\anaconda3\\lib\\site-packages\\matplotlib\\_api\\__init__.py:226\u001b[0m, in \u001b[0;36mcaching_module_getattr.<locals>.__getattr__\u001b[1;34m(name)\u001b[0m\n\u001b[0;32m    224\u001b[0m \u001b[39mif\u001b[39;00m name \u001b[39min\u001b[39;00m props:\n\u001b[0;32m    225\u001b[0m     \u001b[39mreturn\u001b[39;00m props[name]\u001b[39m.\u001b[39m\u001b[39m__get__\u001b[39m(instance)\n\u001b[1;32m--> 226\u001b[0m \u001b[39mraise\u001b[39;00m \u001b[39mAttributeError\u001b[39;00m(\n\u001b[0;32m    227\u001b[0m     \u001b[39mf\u001b[39m\u001b[39m\"\u001b[39m\u001b[39mmodule \u001b[39m\u001b[39m{\u001b[39;00m\u001b[39mcls\u001b[39m\u001b[39m.\u001b[39m\u001b[39m__module__\u001b[39m\u001b[39m!r}\u001b[39;00m\u001b[39m has no attribute \u001b[39m\u001b[39m{\u001b[39;00mname\u001b[39m!r}\u001b[39;00m\u001b[39m\"\u001b[39m)\n",
      "\u001b[1;31mAttributeError\u001b[0m: module 'matplotlib' has no attribute 'scatter'"
     ]
    }
   ],
   "source": [
    "x = df['']\n",
    "y = \n",
    "plt.scatter()"
   ]
  },
  {
   "cell_type": "markdown",
   "metadata": {},
   "source": [
    "# Temperature and Population Change"
   ]
  },
  {
   "cell_type": "code",
   "execution_count": null,
   "metadata": {},
   "outputs": [],
   "source": []
  }
 ],
 "metadata": {
  "kernelspec": {
   "display_name": "Python 3",
   "language": "python",
   "name": "python3"
  },
  "language_info": {
   "codemirror_mode": {
    "name": "ipython",
    "version": 3
   },
   "file_extension": ".py",
   "mimetype": "text/x-python",
   "name": "python",
   "nbconvert_exporter": "python",
   "pygments_lexer": "ipython3",
   "version": "3.10.9"
  },
  "orig_nbformat": 4
 },
 "nbformat": 4,
 "nbformat_minor": 2
}
